{
 "cells": [
  {
   "cell_type": "code",
   "execution_count": 3,
   "metadata": {},
   "outputs": [
    {
     "name": "stdout",
     "output_type": "stream",
     "text": [
      "Feedback received: {\"edit_0\": {\"response_short\": \"In this sentence 'En una ciudad , un ni\\u00f1o con pelo casta\\u00f1o y ojos azules vives en una casa peque\\u00f1a . ' you made a mistake on the verb 'vives'. The correct verb form here is 'vive'. Remember to make your verbs agree with their subjects. Here's the corrected sentence: En una ciudad , un ni\\u00f1o con pelo casta\\u00f1o y ojos azules vive en una casa peque\\u00f1a . \", \"llm_explanation\": \"In your original sentence, you used the verb \\\"vives\\\" which is the form of the verb meant for \\\"t\\u00fa\\\" (you singular informal). However, the subject of the sentence is \\\"un ni\\u00f1o\\\" which requires the verb form \\\"vive\\\" because \\\"ni\\u00f1o\\\" is singular and the third person. So, the correct form is \\\"vive\\\" to match the subject \\\"un ni\\u00f1o.\\\"\", \"line_1\": \"In this sentence 'En una ciudad , un ni\\u00f1o con pelo casta\\u00f1o y ojos azules vives en una casa peque\\u00f1a . ' you made a mistake on the verb 'vives'. What verb form should you have used?\", \"response_1\": {\"correct\": \"Good job. Remember to make your verbs agree with their subjects.\", \"incorrect\": \"Not quite. Think about subject-verb agreement. How should your verb be changed to agree with the subject ', un ni\\u00f1o con pelo casta\\u00f1o y ojos azules'?\"}, \"response_2\": {\"correct\": \"Good job. Remember to make your verbs agree with their subjects.\", \"incorrect\": \"Good try, but not quite. It's tricky, I know. The correct verb form here is 'vive'. Remember to make your verbs agree with their subjects. Here's the corrected sentence: En una ciudad , un ni\\u00f1o con pelo casta\\u00f1o y ojos azules vive en una casa peque\\u00f1a . \"}}, \"edit_1\": {\"response_short\": \"You seem to be using a subject pronoun in the sentence 'Ella es muy hermosa . '. Often, such pronouns are omitted in Spanish. Here's the corrected sentence: Es muy hermosa . \", \"llm_explanation\": \"In Spanish, when we talk about someone using a subject pronoun like \\\"ella\\\" (she), it's usually because we want to emphasize who we are talking about or to avoid confusion. However, when it's clear who we are talking about, as in this case where we are already discussing a female subject, we can omit the subject pronoun and just say \\\"Es muy hermosa\\\" to make the sentence more concise and natural.\", \"line_1\": \"You seem to be using a pronoun in the sentence 'Ella es muy hermosa . '. How could you improve this sentence by removing a pronoun?\", \"response_1\": {\"correct\": \"Yep, that's right. It's better to omit the subject pronoun in this sentence.\", \"incorrect\": \"Not quite. Remember, Spanish doesn't always use subject pronouns. Try again.\"}, \"response_2\": {\"correct\": \"Great! Removing the pronoun makes this sentence sound more natural.\", \"incorrect\": \"You're still missing something. You should probably omit the subject pronoun to make the sentence grammatical. Here's the corrected sentence: Es muy hermosa . \"}}, \"edit_2\": {\"response_short\": \"\", \"llm_explanation\": \"In the corrected sentence, I added the word \\\"los\\\" before \\\"ojos\\\" to indicate that we are talking about the color of the eyes specifically. In Spanish, when describing physical characteristics like hair and eye color, we use the definite article \\\"el\\\" or \\\"la\\\" before the body part to show that we are referring to a specific feature. So, it should be \\\"los ojos casta\\u00f1os dorados\\\" to correctly describe the color of the eyes.\", \"line_1\": \"\", \"response_1\": {\"correct\": \"\", \"incorrect\": \"\"}, \"response_2\": {\"correct\": \"\", \"incorrect\": \"\"}}}\n"
     ]
    }
   ],
   "source": [
    "import requests\n",
    "\n",
    "def query_flask_api(input_text, level, native_language):\n",
    "    try:\n",
    "        # Define the API endpoint\n",
    "        api_url = 'http://localhost:5000/api/feedback'  # Replace with your actual API URL\n",
    "\n",
    "        # Create the payload\n",
    "        payload = {\n",
    "            'input_string': input_text,\n",
    "            'level': level,\n",
    "            'native_language': native_language\n",
    "        }\n",
    "\n",
    "        # Send the POST request\n",
    "        response = requests.post(api_url, json=payload)\n",
    "\n",
    "        if response.status_code == 200:\n",
    "            feedback_data = response.json()\n",
    "            feedback = feedback_data.get('feedback')\n",
    "            print(f\"Feedback received: {feedback}\")\n",
    "        else:\n",
    "            print(f\"Error fetching feedback. Status code: {response.status_code}\")\n",
    "    except Exception as e:\n",
    "        print(f\"An error occurred: {str(e)}\")\n",
    "\n",
    "# Example usage\n",
    "if __name__ == '__main__':\n",
    "    input_text = '''En una ciudad, un niño con pelo castaño y ojos azules vives en una casa pequeña. Sueña con ir a la escuela para ser médico. Viaja a *PLACE* *PLACE*. Cuando llega, ve a una niña en el aeropuerto. Ella es muy hermosa. Tiene el pelo largo y castaño, ojos castaños dorados y una hermosa sonrisa. Tiene dos maletas grandes y tiene problemas para cargarlas porque son pesadas. El niño se acerca a ella para ofrecerle ayuda. Ella tiene una placa que dice \"estudiante de medicina\". Pregunta a dónde va. Ella va a *UNIVERSITY* *UNIVERSITY*. Él también va allí. Toman el mismo taxi desde el aeropuerto hasta la universidad. Ellos hablan y se conocen. Ellos tienen muchas similitudes. Ellos llegan a la universidad. Durante los 3 años de la escuela de medicina, fueron mejores amigos. Después de graduarse, se casan y tienen hijos. Una niña, dos niños y tienen un perro. Su amor se basó en el momento en que se vieron en el aeropuerto.'''\n",
    "    level = 2\n",
    "    native_language = \"English\"\n",
    "    query_flask_api(input_text, level, native_language)"
   ]
  },
  {
   "cell_type": "code",
   "execution_count": null,
   "metadata": {},
   "outputs": [],
   "source": []
  }
 ],
 "metadata": {
  "kernelspec": {
   "display_name": "Python 3",
   "language": "python",
   "name": "python3"
  },
  "language_info": {
   "codemirror_mode": {
    "name": "ipython",
    "version": 3
   },
   "file_extension": ".py",
   "mimetype": "text/x-python",
   "name": "python",
   "nbconvert_exporter": "python",
   "pygments_lexer": "ipython3",
   "version": "3.6.9"
  }
 },
 "nbformat": 4,
 "nbformat_minor": 2
}
